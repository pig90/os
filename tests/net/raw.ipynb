{
 "cells": [
  {
   "cell_type": "code",
   "execution_count": null,
   "metadata": {},
   "outputs": [],
   "source": [
    "from scapy.all import *\n",
    "from scapy.all import (\n",
    "    Ether,\n",
    "    ARP,\n",
    "    IP,\n",
    "    Raw,\n",
    ")\n",
    "\n",
    "from net import (\n",
    "    get_tap,\n",
    "    lmac,\n",
    "    laddr,\n",
    "    haddr,\n",
    "    hmac,\n",
    ")"
   ]
  },
  {
   "cell_type": "code",
   "execution_count": null,
   "metadata": {},
   "outputs": [],
   "source": [
    "tap = get_tap(1)"
   ]
  },
  {
   "cell_type": "code",
   "execution_count": null,
   "metadata": {},
   "outputs": [],
   "source": [
    "pkt = Ether(dst=lmac, src=hmac)\n",
    "pkt /= IP(\n",
    "    dst=laddr,\n",
    "    src=\"192.168.111.1\",\n",
    "    proto='tcp',\n",
    ")\n",
    "pkt /= \"hello raw socket\"\n",
    "tap.send(pkt)\n"
   ]
  }
 ],
 "metadata": {
  "kernelspec": {
   "display_name": "test",
   "language": "python",
   "name": "python3"
  },
  "language_info": {
   "codemirror_mode": {
    "name": "ipython",
    "version": 3
   },
   "file_extension": ".py",
   "mimetype": "text/x-python",
   "name": "python",
   "nbconvert_exporter": "python",
   "pygments_lexer": "ipython3",
   "version": "3.9.16"
  },
  "orig_nbformat": 4
 },
 "nbformat": 4,
 "nbformat_minor": 2
}
