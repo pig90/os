{
 "cells": [
  {
   "cell_type": "code",
   "execution_count": null,
   "metadata": {},
   "outputs": [],
   "source": [
    "from scapy.all import *\n",
    "from scapy.all import (\n",
    "    Ether,\n",
    "    ARP,\n",
    "    IP,\n",
    "    Raw,\n",
    ")\n",
    "\n",
    "\n",
    "from net import (\n",
    "    get_tap,\n",
    "    rmac,\n",
    "    lmac,\n",
    "    broadcast,\n",
    "    laddr,\n",
    "    raddr\n",
    ")\n"
   ]
  },
  {
   "attachments": {},
   "cell_type": "markdown",
   "metadata": {},
   "source": [
    "<https://scapy.readthedocs.io/en/latest/api/scapy.layers.html>\n",
    "\n",
    "<https://scapy.readthedocs.io/en/latest/api/scapy.layers.inet.html>"
   ]
  },
  {
   "cell_type": "code",
   "execution_count": null,
   "metadata": {},
   "outputs": [],
   "source": [
    "tap = get_tap(1)"
   ]
  },
  {
   "cell_type": "code",
   "execution_count": null,
   "metadata": {},
   "outputs": [],
   "source": [
    "pkt = Ether(dst=rmac, src=lmac)\n",
    "pkt /= IP(\n",
    "    dst=laddr,\n",
    "    src=raddr,\n",
    "    proto='tcp',\n",
    ")\n",
    "pkt /= \"hello ip\"\n",
    "tap.send(pkt)"
   ]
  },
  {
   "cell_type": "code",
   "execution_count": null,
   "metadata": {},
   "outputs": [],
   "source": [
    "pkt = Ether(dst=rmac, src=lmac)\n",
    "pkt /= IP(\n",
    "    dst=laddr,\n",
    "    src=raddr,\n",
    "    proto='udp',\n",
    ")\n",
    "pkt /= \"hello ip\"\n",
    "tap.send(pkt)"
   ]
  },
  {
   "cell_type": "code",
   "execution_count": null,
   "metadata": {},
   "outputs": [],
   "source": [
    "pkt = Ether(dst=rmac, src=lmac)\n",
    "pkt /= IP(\n",
    "    dst=laddr,\n",
    "    src=raddr,\n",
    "    proto='icmp',\n",
    ")\n",
    "pkt /= \"hello ip\"\n",
    "tap.send(pkt)"
   ]
  }
 ],
 "metadata": {
  "kernelspec": {
   "display_name": "test",
   "language": "python",
   "name": "python3"
  },
  "language_info": {
   "codemirror_mode": {
    "name": "ipython",
    "version": 3
   },
   "file_extension": ".py",
   "mimetype": "text/x-python",
   "name": "python",
   "nbconvert_exporter": "python",
   "pygments_lexer": "ipython3",
   "version": "3.9.16"
  },
  "orig_nbformat": 4
 },
 "nbformat": 4,
 "nbformat_minor": 2
}
