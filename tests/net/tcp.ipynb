{
 "cells": [
  {
   "cell_type": "code",
   "execution_count": null,
   "metadata": {},
   "outputs": [],
   "source": [
    "from scapy.all import *\n",
    "from scapy.layers.l2 import Ether\n",
    "from scapy.layers.inet import IP, TCP\n",
    "\n",
    "\n",
    "from net import (\n",
    "    get_tap,\n",
    "    rmac,\n",
    "    lmac,\n",
    "    laddr,\n",
    "    raddr\n",
    ")"
   ]
  },
  {
   "attachments": {},
   "cell_type": "markdown",
   "metadata": {},
   "source": [
    "<https://scapy.readthedocs.io/en/latest/api/scapy.layers.html>\n",
    "\n",
    "<https://scapy.readthedocs.io/en/latest/api/scapy.layers.inet.html>"
   ]
  },
  {
   "cell_type": "code",
   "execution_count": null,
   "metadata": {},
   "outputs": [],
   "source": [
    "tap = get_tap(1)"
   ]
  },
  {
   "cell_type": "code",
   "execution_count": null,
   "metadata": {},
   "outputs": [],
   "source": [
    "pkt = Ether(dst=rmac, src=lmac)\n",
    "pkt /= IP(\n",
    "    dst=laddr,\n",
    "    src=raddr)\n",
    "pkt /= TCP(\n",
    "    sport=12345,\n",
    "    dport=23456,\n",
    "    seq=1234567,\n",
    "    ack=2345678,\n",
    "    flags='FSRPAU',\n",
    "    window=8192,\n",
    ")\n",
    "pkt /= \"hello tcp\"\n",
    "tap.send(pkt)"
   ]
  }
 ],
 "metadata": {
  "kernelspec": {
   "display_name": "test",
   "language": "python",
   "name": "python3"
  },
  "language_info": {
   "codemirror_mode": {
    "name": "ipython",
    "version": 3
   },
   "file_extension": ".py",
   "mimetype": "text/x-python",
   "name": "python",
   "nbconvert_exporter": "python",
   "pygments_lexer": "ipython3",
   "version": "3.9.16"
  },
  "orig_nbformat": 4
 },
 "nbformat": 4,
 "nbformat_minor": 2
}
